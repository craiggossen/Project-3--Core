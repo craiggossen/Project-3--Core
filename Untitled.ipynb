{
 "cells": [
  {
   "cell_type": "markdown",
   "id": "1e107dd0",
   "metadata": {},
   "source": [
    "# IMDB Data Project\n",
    "Craig Gossen\n",
    "\n"
   ]
  },
  {
   "cell_type": "markdown",
   "id": "d4581c02",
   "metadata": {},
   "source": [
    "## Load and Clean the Data"
   ]
  },
  {
   "cell_type": "code",
   "execution_count": 2,
   "id": "a2d168f7",
   "metadata": {},
   "outputs": [],
   "source": [
    "#Imports\n",
    "import pandas as pd\n",
    "import numpy as np\n",
    "import matplotlib.pyplot as plt"
   ]
  },
  {
   "cell_type": "code",
   "execution_count": 3,
   "id": "74a0f7ae",
   "metadata": {},
   "outputs": [],
   "source": [
    "#Gather the data\n",
    "titles_url = 'https://datasets.imdbws.com/title.basics.tsv.gz'\n",
    "akas_url = 'https://datasets.imdbws.com/title.akas.tsv.gz'\n",
    "ratings_url = 'https://datasets.imdbws.com/title.ratings.tsv.gz'"
   ]
  },
  {
   "cell_type": "code",
   "execution_count": 4,
   "id": "2702a92d",
   "metadata": {},
   "outputs": [],
   "source": [
    "#Load the data\n",
    "titles = pd.read_csv(titles_url, sep='\\t', low_memory=False)\n",
    "akas = pd.read_csv(akas_url, sep='\\t', low_memory=False)\n",
    "ratings = pd.read_csv(ratings_url, sep='\\t', low_memory=False)"
   ]
  },
  {
   "cell_type": "code",
   "execution_count": 5,
   "id": "fa6eaf85",
   "metadata": {},
   "outputs": [
    {
     "data": {
      "text/html": [
       "<div>\n",
       "<style scoped>\n",
       "    .dataframe tbody tr th:only-of-type {\n",
       "        vertical-align: middle;\n",
       "    }\n",
       "\n",
       "    .dataframe tbody tr th {\n",
       "        vertical-align: top;\n",
       "    }\n",
       "\n",
       "    .dataframe thead th {\n",
       "        text-align: right;\n",
       "    }\n",
       "</style>\n",
       "<table border=\"1\" class=\"dataframe\">\n",
       "  <thead>\n",
       "    <tr style=\"text-align: right;\">\n",
       "      <th></th>\n",
       "      <th>tconst</th>\n",
       "      <th>titleType</th>\n",
       "      <th>primaryTitle</th>\n",
       "      <th>originalTitle</th>\n",
       "      <th>isAdult</th>\n",
       "      <th>startYear</th>\n",
       "      <th>endYear</th>\n",
       "      <th>runtimeMinutes</th>\n",
       "      <th>genres</th>\n",
       "    </tr>\n",
       "  </thead>\n",
       "  <tbody>\n",
       "    <tr>\n",
       "      <th>0</th>\n",
       "      <td>tt0000001</td>\n",
       "      <td>short</td>\n",
       "      <td>Carmencita</td>\n",
       "      <td>Carmencita</td>\n",
       "      <td>0</td>\n",
       "      <td>1894</td>\n",
       "      <td>\\N</td>\n",
       "      <td>1</td>\n",
       "      <td>Documentary,Short</td>\n",
       "    </tr>\n",
       "    <tr>\n",
       "      <th>1</th>\n",
       "      <td>tt0000002</td>\n",
       "      <td>short</td>\n",
       "      <td>Le clown et ses chiens</td>\n",
       "      <td>Le clown et ses chiens</td>\n",
       "      <td>0</td>\n",
       "      <td>1892</td>\n",
       "      <td>\\N</td>\n",
       "      <td>5</td>\n",
       "      <td>Animation,Short</td>\n",
       "    </tr>\n",
       "    <tr>\n",
       "      <th>2</th>\n",
       "      <td>tt0000003</td>\n",
       "      <td>short</td>\n",
       "      <td>Pauvre Pierrot</td>\n",
       "      <td>Pauvre Pierrot</td>\n",
       "      <td>0</td>\n",
       "      <td>1892</td>\n",
       "      <td>\\N</td>\n",
       "      <td>4</td>\n",
       "      <td>Animation,Comedy,Romance</td>\n",
       "    </tr>\n",
       "    <tr>\n",
       "      <th>3</th>\n",
       "      <td>tt0000004</td>\n",
       "      <td>short</td>\n",
       "      <td>Un bon bock</td>\n",
       "      <td>Un bon bock</td>\n",
       "      <td>0</td>\n",
       "      <td>1892</td>\n",
       "      <td>\\N</td>\n",
       "      <td>12</td>\n",
       "      <td>Animation,Short</td>\n",
       "    </tr>\n",
       "    <tr>\n",
       "      <th>4</th>\n",
       "      <td>tt0000005</td>\n",
       "      <td>short</td>\n",
       "      <td>Blacksmith Scene</td>\n",
       "      <td>Blacksmith Scene</td>\n",
       "      <td>0</td>\n",
       "      <td>1893</td>\n",
       "      <td>\\N</td>\n",
       "      <td>1</td>\n",
       "      <td>Comedy,Short</td>\n",
       "    </tr>\n",
       "  </tbody>\n",
       "</table>\n",
       "</div>"
      ],
      "text/plain": [
       "      tconst titleType            primaryTitle           originalTitle  \\\n",
       "0  tt0000001     short              Carmencita              Carmencita   \n",
       "1  tt0000002     short  Le clown et ses chiens  Le clown et ses chiens   \n",
       "2  tt0000003     short          Pauvre Pierrot          Pauvre Pierrot   \n",
       "3  tt0000004     short             Un bon bock             Un bon bock   \n",
       "4  tt0000005     short        Blacksmith Scene        Blacksmith Scene   \n",
       "\n",
       "  isAdult startYear endYear runtimeMinutes                    genres  \n",
       "0       0      1894      \\N              1         Documentary,Short  \n",
       "1       0      1892      \\N              5           Animation,Short  \n",
       "2       0      1892      \\N              4  Animation,Comedy,Romance  \n",
       "3       0      1892      \\N             12           Animation,Short  \n",
       "4       0      1893      \\N              1              Comedy,Short  "
      ]
     },
     "execution_count": 5,
     "metadata": {},
     "output_type": "execute_result"
    }
   ],
   "source": [
    "titles.head()\n"
   ]
  },
  {
   "cell_type": "code",
   "execution_count": null,
   "id": "d34c48c0",
   "metadata": {},
   "outputs": [],
   "source": [
    "akas.head()\n"
   ]
  },
  {
   "cell_type": "code",
   "execution_count": null,
   "id": "85b222e8",
   "metadata": {},
   "outputs": [],
   "source": [
    "ratings.head()"
   ]
  },
  {
   "cell_type": "code",
   "execution_count": null,
   "id": "6a36c1ef",
   "metadata": {},
   "outputs": [],
   "source": [
    "titles.shape"
   ]
  },
  {
   "cell_type": "code",
   "execution_count": null,
   "id": "a5ed20a4",
   "metadata": {},
   "outputs": [],
   "source": [
    "akas.shape"
   ]
  },
  {
   "cell_type": "code",
   "execution_count": null,
   "id": "af58320f",
   "metadata": {},
   "outputs": [],
   "source": [
    "ratings.shape"
   ]
  },
  {
   "cell_type": "code",
   "execution_count": null,
   "id": "7e47b1e0",
   "metadata": {},
   "outputs": [],
   "source": [
    "#Replacing \\N placeholders with NaN across all dataframes\n",
    "akas.replace({'\\\\N':np.nan},inplace = True)\n",
    "titles.replace({'\\\\N':np.nan},inplace = True)\n",
    "ratings.replace({'\\\\N':np.nan},inplace = True)"
   ]
  },
  {
   "cell_type": "markdown",
   "id": "725627ac",
   "metadata": {},
   "source": [
    "### Cleaning Titles"
   ]
  },
  {
   "cell_type": "code",
   "execution_count": null,
   "id": "cb0c3248",
   "metadata": {},
   "outputs": [],
   "source": [
    "#Drop null for runtimeMinutes and genres\n",
    "titles.dropna(subset = ['runtimeMinutes', 'genres'], inplace=True)\n",
    "titles.shape"
   ]
  },
  {
   "cell_type": "code",
   "execution_count": null,
   "id": "ee373df3",
   "metadata": {},
   "outputs": [],
   "source": [
    "titles['titleType'].value_counts()"
   ]
  },
  {
   "cell_type": "code",
   "execution_count": null,
   "id": "23541fc4",
   "metadata": {},
   "outputs": [],
   "source": [
    "#Keep only Type == MovieS\n",
    "titles_moviefilter = titles['titleType'] = 'movie'\n",
    "titles = titles[titles_moviefilter]\n",
    "titles.shape"
   ]
  },
  {
   "cell_type": "code",
   "execution_count": null,
   "id": "5b722c98",
   "metadata": {},
   "outputs": [],
   "source": [
    "#Keep startYear == 2000, 2001, 2002\n"
   ]
  },
  {
   "cell_type": "code",
   "execution_count": null,
   "id": "3dedec41",
   "metadata": {},
   "outputs": [],
   "source": [
    "#Drop 'Documentary' in column genre\n",
    "is_documentary = titles['genres'].str.contains('documentary',case=False)\n",
    "titles = titles[~is_documentary]\n",
    "titles.shape"
   ]
  },
  {
   "cell_type": "code",
   "execution_count": null,
   "id": "60d5f38a",
   "metadata": {},
   "outputs": [],
   "source": []
  },
  {
   "cell_type": "markdown",
   "id": "66e433bd",
   "metadata": {},
   "source": [
    "### Cleaning AKAs"
   ]
  },
  {
   "cell_type": "code",
   "execution_count": null,
   "id": "a47da37e",
   "metadata": {},
   "outputs": [],
   "source": []
  },
  {
   "cell_type": "code",
   "execution_count": null,
   "id": "5c6a2de4",
   "metadata": {},
   "outputs": [],
   "source": []
  },
  {
   "cell_type": "markdown",
   "id": "9632bf79",
   "metadata": {},
   "source": [
    "### Cleaning Ratings"
   ]
  },
  {
   "cell_type": "code",
   "execution_count": null,
   "id": "6906bbe9",
   "metadata": {},
   "outputs": [],
   "source": []
  }
 ],
 "metadata": {
  "kernelspec": {
   "display_name": "Python (dojo-env)",
   "language": "python",
   "name": "dojo-env"
  },
  "language_info": {
   "codemirror_mode": {
    "name": "ipython",
    "version": 3
   },
   "file_extension": ".py",
   "mimetype": "text/x-python",
   "name": "python",
   "nbconvert_exporter": "python",
   "pygments_lexer": "ipython3",
   "version": "3.9.15"
  },
  "toc": {
   "base_numbering": 1,
   "nav_menu": {},
   "number_sections": false,
   "sideBar": true,
   "skip_h1_title": false,
   "title_cell": "Table of Contents",
   "title_sidebar": "Contents",
   "toc_cell": false,
   "toc_position": {},
   "toc_section_display": true,
   "toc_window_display": false
  }
 },
 "nbformat": 4,
 "nbformat_minor": 5
}
